{
 "cells": [
  {
   "cell_type": "markdown",
   "metadata": {},
   "source": [
    "# Optimization of DAMIC CCDs Using Machine Learning\n",
    "\n",
    "### Goal\n",
    "\n",
    "This document will follow the development of a program which will be used to optimize DAMIC CCDs using machine learning.  The program will use Alex Piers' code to find relevant variables which can be used to determine the quality of any given image.  It will be able to map these parameters which determine the images' quality to the input parameters used to configure the CCD or to combinations of the parameters.  This will help identify which parameters or combinations of parameters are most relevant to image quality, which will allow us to build a model for image quality using machine learning.  Once we have a method for creating good models, we should be able to use it to optimize CCDs."
   ]
  },
  {
   "cell_type": "markdown",
   "metadata": {},
   "source": [
    "### Convirt .fits files to .csv\n",
    "\n",
    "To make analysis of these input and output variables, we don't want to be moving around all the raw data for each image since we will only be using processed data.  That means the first step will be to make a csv file for each CCD, containing the input and output variables of each image.  Later analysis will be done using the csv file.\n",
    "\n",
    "The cell below runs FitsToCSV.py on the specified directory and all subdirectories it contains.  If the data is outside the folder, the argument should be the whole filepath to get to the directory.  Directories should be of the form \"UW(4 digits)S\" or \"YYYY-MM-DD\".  It will convirt every Img+//.fits file contained in the directory or subdirectories into a line in the csv output file.  The program may take several minutes to compile, depending on how large the directory is that one is analyzing."
   ]
  },
  {
   "cell_type": "code",
   "execution_count": 1,
   "metadata": {},
   "outputs": [
    {
     "name": "stdout",
     "output_type": "stream",
     "text": [
      "UW1032S\n",
      "  0%|                                                     | 0/4 [00:00<?, ?it/s]Reading images from: UW1032S\n",
      "/home/shda/anaconda3/lib/python3.7/site-packages/scipy/optimize/minpack.py:795: OptimizeWarning: Covariance of the parameters could not be estimated\n",
      "  category=OptimizeWarning)\n",
      "100%|█████████████████████████████████████████████| 4/4 [00:06<00:00,  1.75s/it]\n"
     ]
    }
   ],
   "source": [
    "!python FitsToCSV.py \"UW1032S\""
   ]
  },
  {
   "cell_type": "markdown",
   "metadata": {},
   "source": [
    "### Graphing Variables (1 Dimensional)\n",
    "\n",
    "The first analysis we want to see from the .csv file is the relation between 2 variables.  The code cell below takes two variable names as arguments, and shows the relation between them in a scatter plot.  The first argument will be the .csv file, the second argument will be the variable appearing on the x axis, and the third will appear on the y.\n",
    "\n",
    "Key to Variables:\n",
    "\n",
    "Inputs:\n",
    "'EXP', 'AMPL', 'HCKDIRN', 'VCKDIRN', 'ITGTIME', 'VIDGAIN', 'PRETIME', 'POSTIME', 'DGWIDTH', 'RGWIDTH', 'OGWIDTH', 'SWWIDTH', 'HWIDTH', 'HOWIDTH', 'VWIDTH', 'VOWIDTH', 'ONEVCKHI', 'ONEVCKLO', 'TWOVCKHI', 'TWOVCKLO', 'TGHI', 'TGLO', 'HUHI', 'HULO', 'HLHI', 'HLLO', 'RGHI', 'RGLO', 'SWLO', 'DGHI', 'DGLO', 'OGHI', 'OGLO', 'BATTR', 'VDD1', 'VDD2', 'DRAIN1', 'DRAIN2', 'VREF1', 'VREF2', 'OPG1', 'OPG2'.\n",
    "\n",
    "Outputs:\n",
    "'imgNoise', 'skNoise', 'aveImgS', 'dSdskip', 'pixVar', 'clustVar', 'tailRatio', 'DC'.\n",
    "\n",
    "Image info:\n",
    "'NDCMS', 'NAXIS1', 'NAXIS2'."
   ]
  },
  {
   "cell_type": "code",
   "execution_count": 2,
   "metadata": {},
   "outputs": [
    {
     "data": {
      "image/png": "[encoded data removed]",
      "text/plain": [
       "<Figure size 432x288 with 1 Axes>"
      ]
     },
     "metadata": {
      "needs_background": "light"
     },
     "output_type": "display_data"
    }
   ],
   "source": [
    "%matplotlib inline\n",
    "import Graphing\n",
    "\n",
    "Graphing.graph1D(\"2020-02-02.csv\",\"NDCMS\", 0, 40000, \"DC\", 0 , 50)"
   ]
  },
  {
   "cell_type": "markdown",
   "metadata": {},
   "source": [
    "### Transform CSV For Further Analysis\n",
    "\n",
    "Make a new .csv file which convirts image quality into one single metric, which consists of the magnitude of a vector whos components are dark current, noise, and charge transfer, each multiplied by a scalar which decides the weighting of each component.  "
   ]
  },
  {
   "cell_type": "code",
   "execution_count": 5,
   "metadata": {},
   "outputs": [],
   "source": [
    "import TransformCSV\n",
    "\n",
    "fileTransform = \"2020-02-02.csv\"\n",
    "\n",
    "TransformCSV.transformCSV(fileTransform, \"T-\" + fileTransform)"
   ]
  },
  {
   "cell_type": "markdown",
   "metadata": {},
   "source": [
    "### Finding Correlations Between Variables\n",
    "\n",
    "To get a better idea about how variables affect each other, we need a way to look at correlations between variables, which turns out to be relativley straight forward using pandas."
   ]
  },
  {
   "cell_type": "code",
   "execution_count": 5,
   "metadata": {},
   "outputs": [
    {
     "data": {
      "text/plain": [
       "NDCMS        -2.773801e-01\n",
       "NAXIS1       -2.773801e-01\n",
       "TGHI         -1.806801e-01\n",
       "VOWIDTH      -1.006233e-16\n",
       "VWIDTH       -1.006233e-16\n",
       "SWWIDTH      -1.006233e-16\n",
       "RGWIDTH      -1.006233e-16\n",
       "OGWIDTH      -1.006233e-16\n",
       "POSTIME      -1.006233e-16\n",
       "PRETIME      -1.006233e-16\n",
       "DGWIDTH      -1.006233e-16\n",
       "ITGTIME      -3.417394e-17\n",
       "OPG1          3.417394e-17\n",
       "HULO          3.417394e-17\n",
       "HLLO          3.417394e-17\n",
       "OPG2          3.417394e-17\n",
       "NAXIS2        2.773801e-01\n",
       "VREF1         3.290345e-01\n",
       "VREF2         3.290345e-01\n",
       "imgQuality    1.000000e+00\n",
       "EXP                    NaN\n",
       "VCKDIRN                NaN\n",
       "VIDGAIN                NaN\n",
       "HWIDTH                 NaN\n",
       "HOWIDTH                NaN\n",
       "ONEVCKHI               NaN\n",
       "ONEVCKLO               NaN\n",
       "TWOVCKHI               NaN\n",
       "TWOVCKLO               NaN\n",
       "TGLO                   NaN\n",
       "HUHI                   NaN\n",
       "HLHI                   NaN\n",
       "RGHI                   NaN\n",
       "RGLO                   NaN\n",
       "SWLO                   NaN\n",
       "DGHI                   NaN\n",
       "DGLO                   NaN\n",
       "OGHI                   NaN\n",
       "OGLO                   NaN\n",
       "BATTR                  NaN\n",
       "VDD1                   NaN\n",
       "VDD2                   NaN\n",
       "DRAIN1                 NaN\n",
       "DRAIN2                 NaN\n",
       "Name: imgQuality, dtype: float64"
      ]
     },
     "execution_count": 5,
     "metadata": {},
     "output_type": "execute_result"
    }
   ],
   "source": [
    "import pandas as pd\n",
    "\n",
    "ccd = pd.read_csv(\"T-2020-02-02.csv\")\n",
    "ccd.corr()['imgQuality'].sort_values()"
   ]
  },
  {
   "cell_type": "code",
   "execution_count": null,
   "metadata": {},
   "outputs": [],
   "source": []
  }
 ],
 "metadata": {
  "kernelspec": {
   "display_name": "Python 3",
   "language": "python",
   "name": "python3"
  },
  "language_info": {
   "codemirror_mode": {
    "name": "ipython",
    "version": 3
   },
   "file_extension": ".py",
   "mimetype": "text/x-python",
   "name": "python",
   "nbconvert_exporter": "python",
   "pygments_lexer": "ipython3",
   "version": "3.7.4"
  }
 },
 "nbformat": 4,
 "nbformat_minor": 2
}
